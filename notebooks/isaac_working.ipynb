{
 "cells": [
  {
   "cell_type": "markdown",
   "id": "e2eeb15c",
   "metadata": {},
   "source": [
    "# Cities in Motion: Student Hackathon\n",
    "\n",
    "This notebook covers initial data exploration of the Urban Scanner dataset."
   ]
  },
  {
   "cell_type": "code",
   "execution_count": 1,
   "id": "d1952867",
   "metadata": {},
   "outputs": [],
   "source": [
    "import os\n",
    "os.chdir(\"..\")\n",
    "\n",
    "from pandas import DataFrame\n",
    "from geopandas import GeoDataFrame\n",
    "import pandas as pd\n",
    "import numpy as np\n",
    "\n",
    "from data import *\n",
    "from model import *\n",
    "from preprocess import *\n",
    "from postprocess import *\n",
    "\n",
    "run_dir = \"run/model-2025-10-16_04-18\"\n",
    "LAYERS = [3, 32, 64, 128, 256, 128, 64, 32, 3]\n",
    "\n",
    "model = PINN(layers=LAYERS)\n"
   ]
  },
  {
   "cell_type": "code",
   "execution_count": 2,
   "id": "85ac6f76",
   "metadata": {},
   "outputs": [
    {
     "ename": "RuntimeError",
     "evalue": "Error(s) in loading state_dict for PINN:\n\tMissing key(s) in state_dict: \"net.10.weight\", \"net.10.bias\", \"net.12.weight\", \"net.12.bias\", \"net.14.weight\", \"net.14.bias\". \n\tsize mismatch for net.0.weight: copying a param with shape torch.Size([64, 3]) from checkpoint, the shape in current model is torch.Size([32, 3]).\n\tsize mismatch for net.0.bias: copying a param with shape torch.Size([64]) from checkpoint, the shape in current model is torch.Size([32]).\n\tsize mismatch for net.2.weight: copying a param with shape torch.Size([128, 64]) from checkpoint, the shape in current model is torch.Size([64, 32]).\n\tsize mismatch for net.2.bias: copying a param with shape torch.Size([128]) from checkpoint, the shape in current model is torch.Size([64]).\n\tsize mismatch for net.4.weight: copying a param with shape torch.Size([128, 128]) from checkpoint, the shape in current model is torch.Size([128, 64]).\n\tsize mismatch for net.6.weight: copying a param with shape torch.Size([64, 128]) from checkpoint, the shape in current model is torch.Size([256, 128]).\n\tsize mismatch for net.6.bias: copying a param with shape torch.Size([64]) from checkpoint, the shape in current model is torch.Size([256]).\n\tsize mismatch for net.8.weight: copying a param with shape torch.Size([3, 64]) from checkpoint, the shape in current model is torch.Size([128, 256]).\n\tsize mismatch for net.8.bias: copying a param with shape torch.Size([3]) from checkpoint, the shape in current model is torch.Size([128]).",
     "output_type": "error",
     "traceback": [
      "\u001b[31m---------------------------------------------------------------------------\u001b[39m",
      "\u001b[31mRuntimeError\u001b[39m                              Traceback (most recent call last)",
      "\u001b[36mCell\u001b[39m\u001b[36m \u001b[39m\u001b[32mIn[2]\u001b[39m\u001b[32m, line 29\u001b[39m\n\u001b[32m     26\u001b[39m     \u001b[38;5;28mprint\u001b[39m(\u001b[33mf\u001b[39m\u001b[33m\"\u001b[39m\u001b[33mLoaded \u001b[39m\u001b[38;5;132;01m{\u001b[39;00m\u001b[33m'\u001b[39m\u001b[33mbest\u001b[39m\u001b[33m'\u001b[39m\u001b[38;5;250m \u001b[39m\u001b[38;5;28;01mif\u001b[39;00m\u001b[38;5;250m \u001b[39muse_best\u001b[38;5;250m \u001b[39m\u001b[38;5;28;01melse\u001b[39;00m\u001b[38;5;250m \u001b[39m\u001b[33m'\u001b[39m\u001b[33mfinal\u001b[39m\u001b[33m'\u001b[39m\u001b[38;5;132;01m}\u001b[39;00m\u001b[33m model from: \u001b[39m\u001b[38;5;132;01m{\u001b[39;00mmodel_path\u001b[38;5;132;01m}\u001b[39;00m\u001b[33m\"\u001b[39m)\n\u001b[32m     27\u001b[39m     \u001b[38;5;28;01mreturn\u001b[39;00m model\n\u001b[32m---> \u001b[39m\u001b[32m29\u001b[39m model = \u001b[43mload_trained_pinn\u001b[49m\u001b[43m(\u001b[49m\u001b[43mLAYERS\u001b[49m\u001b[43m,\u001b[49m\u001b[43m \u001b[49m\u001b[43mrun_dir\u001b[49m\u001b[43m,\u001b[49m\u001b[43m \u001b[49m\u001b[43mdevice\u001b[49m\u001b[43m=\u001b[49m\u001b[33;43m\"\u001b[39;49m\u001b[33;43mmps\u001b[39;49m\u001b[33;43m\"\u001b[39;49m\u001b[43m)\u001b[49m\n",
      "\u001b[36mCell\u001b[39m\u001b[36m \u001b[39m\u001b[32mIn[2]\u001b[39m\u001b[32m, line 23\u001b[39m, in \u001b[36mload_trained_pinn\u001b[39m\u001b[34m(layers, run_dir, device, use_best)\u001b[39m\n\u001b[32m     21\u001b[39m \u001b[38;5;66;03m# --- Load weights ---\u001b[39;00m\n\u001b[32m     22\u001b[39m state_dict = torch.load(model_path, map_location=device)\n\u001b[32m---> \u001b[39m\u001b[32m23\u001b[39m \u001b[43mmodel\u001b[49m\u001b[43m.\u001b[49m\u001b[43mload_state_dict\u001b[49m\u001b[43m(\u001b[49m\u001b[43mstate_dict\u001b[49m\u001b[43m)\u001b[49m\n\u001b[32m     24\u001b[39m model.eval()\n\u001b[32m     26\u001b[39m \u001b[38;5;28mprint\u001b[39m(\u001b[33mf\u001b[39m\u001b[33m\"\u001b[39m\u001b[33mLoaded \u001b[39m\u001b[38;5;132;01m{\u001b[39;00m\u001b[33m'\u001b[39m\u001b[33mbest\u001b[39m\u001b[33m'\u001b[39m\u001b[38;5;250m \u001b[39m\u001b[38;5;28;01mif\u001b[39;00m\u001b[38;5;250m \u001b[39muse_best\u001b[38;5;250m \u001b[39m\u001b[38;5;28;01melse\u001b[39;00m\u001b[38;5;250m \u001b[39m\u001b[33m'\u001b[39m\u001b[33mfinal\u001b[39m\u001b[33m'\u001b[39m\u001b[38;5;132;01m}\u001b[39;00m\u001b[33m model from: \u001b[39m\u001b[38;5;132;01m{\u001b[39;00mmodel_path\u001b[38;5;132;01m}\u001b[39;00m\u001b[33m\"\u001b[39m)\n",
      "\u001b[36mFile \u001b[39m\u001b[32m~/Documents/git/CIM_UrbanScanner/venv/lib/python3.13/site-packages/torch/nn/modules/module.py:2629\u001b[39m, in \u001b[36mModule.load_state_dict\u001b[39m\u001b[34m(self, state_dict, strict, assign)\u001b[39m\n\u001b[32m   2621\u001b[39m         error_msgs.insert(\n\u001b[32m   2622\u001b[39m             \u001b[32m0\u001b[39m,\n\u001b[32m   2623\u001b[39m             \u001b[33m\"\u001b[39m\u001b[33mMissing key(s) in state_dict: \u001b[39m\u001b[38;5;132;01m{}\u001b[39;00m\u001b[33m. \u001b[39m\u001b[33m\"\u001b[39m.format(\n\u001b[32m   2624\u001b[39m                 \u001b[33m\"\u001b[39m\u001b[33m, \u001b[39m\u001b[33m\"\u001b[39m.join(\u001b[33mf\u001b[39m\u001b[33m'\u001b[39m\u001b[33m\"\u001b[39m\u001b[38;5;132;01m{\u001b[39;00mk\u001b[38;5;132;01m}\u001b[39;00m\u001b[33m\"\u001b[39m\u001b[33m'\u001b[39m \u001b[38;5;28;01mfor\u001b[39;00m k \u001b[38;5;129;01min\u001b[39;00m missing_keys)\n\u001b[32m   2625\u001b[39m             ),\n\u001b[32m   2626\u001b[39m         )\n\u001b[32m   2628\u001b[39m \u001b[38;5;28;01mif\u001b[39;00m \u001b[38;5;28mlen\u001b[39m(error_msgs) > \u001b[32m0\u001b[39m:\n\u001b[32m-> \u001b[39m\u001b[32m2629\u001b[39m     \u001b[38;5;28;01mraise\u001b[39;00m \u001b[38;5;167;01mRuntimeError\u001b[39;00m(\n\u001b[32m   2630\u001b[39m         \u001b[33m\"\u001b[39m\u001b[33mError(s) in loading state_dict for \u001b[39m\u001b[38;5;132;01m{}\u001b[39;00m\u001b[33m:\u001b[39m\u001b[38;5;130;01m\\n\u001b[39;00m\u001b[38;5;130;01m\\t\u001b[39;00m\u001b[38;5;132;01m{}\u001b[39;00m\u001b[33m\"\u001b[39m.format(\n\u001b[32m   2631\u001b[39m             \u001b[38;5;28mself\u001b[39m.\u001b[34m__class__\u001b[39m.\u001b[34m__name__\u001b[39m, \u001b[33m\"\u001b[39m\u001b[38;5;130;01m\\n\u001b[39;00m\u001b[38;5;130;01m\\t\u001b[39;00m\u001b[33m\"\u001b[39m.join(error_msgs)\n\u001b[32m   2632\u001b[39m         )\n\u001b[32m   2633\u001b[39m     )\n\u001b[32m   2634\u001b[39m \u001b[38;5;28;01mreturn\u001b[39;00m _IncompatibleKeys(missing_keys, unexpected_keys)\n",
      "\u001b[31mRuntimeError\u001b[39m: Error(s) in loading state_dict for PINN:\n\tMissing key(s) in state_dict: \"net.10.weight\", \"net.10.bias\", \"net.12.weight\", \"net.12.bias\", \"net.14.weight\", \"net.14.bias\". \n\tsize mismatch for net.0.weight: copying a param with shape torch.Size([64, 3]) from checkpoint, the shape in current model is torch.Size([32, 3]).\n\tsize mismatch for net.0.bias: copying a param with shape torch.Size([64]) from checkpoint, the shape in current model is torch.Size([32]).\n\tsize mismatch for net.2.weight: copying a param with shape torch.Size([128, 64]) from checkpoint, the shape in current model is torch.Size([64, 32]).\n\tsize mismatch for net.2.bias: copying a param with shape torch.Size([128]) from checkpoint, the shape in current model is torch.Size([64]).\n\tsize mismatch for net.4.weight: copying a param with shape torch.Size([128, 128]) from checkpoint, the shape in current model is torch.Size([128, 64]).\n\tsize mismatch for net.6.weight: copying a param with shape torch.Size([64, 128]) from checkpoint, the shape in current model is torch.Size([256, 128]).\n\tsize mismatch for net.6.bias: copying a param with shape torch.Size([64]) from checkpoint, the shape in current model is torch.Size([256]).\n\tsize mismatch for net.8.weight: copying a param with shape torch.Size([3, 64]) from checkpoint, the shape in current model is torch.Size([128, 256]).\n\tsize mismatch for net.8.bias: copying a param with shape torch.Size([3]) from checkpoint, the shape in current model is torch.Size([128])."
     ]
    }
   ],
   "source": [
    "def load_trained_pinn(layers, run_dir, device=\"mps\", use_best=True):\n",
    "    \"\"\"\n",
    "    Load a trained PINN model from a given run directory.\n",
    "\n",
    "    Args:\n",
    "        layers (list[int]): Network architecture, e.g. [3, 128, 128, 64, 3]\n",
    "        run_dir (str): Path to run directory containing model weights, e.g. \"run/model-2025-10-16_12-00\"\n",
    "        device (str): \"cpu\" or \"cuda\"\n",
    "        use_best (bool): If True, loads 'best_model.pt'; otherwise loads 'final_model.pt'\n",
    "\n",
    "    Returns:\n",
    "        model (PINN): The loaded and ready-to-evaluate PINN model.\n",
    "    \"\"\"\n",
    "    # --- Rebuild model ---\n",
    "    model = PINN(layers, activation=Sin())\n",
    "    model.to(device)\n",
    "\n",
    "    # --- Choose which weights to load ---\n",
    "    model_path = f\"{run_dir}/best_model.pt\" if use_best else f\"{run_dir}/final_model.pt\"\n",
    "\n",
    "    # --- Load weights ---\n",
    "    state_dict = torch.load(model_path, map_location=device)\n",
    "    model.load_state_dict(state_dict)\n",
    "    model.eval()\n",
    "\n",
    "    print(f\"Loaded {'best' if use_best else 'final'} model from: {model_path}\")\n",
    "    return model\n",
    "\n",
    "model = load_trained_pinn(LAYERS, run_dir, device=\"mps\")"
   ]
  },
  {
   "cell_type": "code",
   "execution_count": null,
   "id": "7c719999",
   "metadata": {},
   "outputs": [
    {
     "ename": "AttributeError",
     "evalue": "'PINN' object has no attribute 'device'",
     "output_type": "error",
     "traceback": [
      "\u001b[31m---------------------------------------------------------------------------\u001b[39m",
      "\u001b[31mAttributeError\u001b[39m                            Traceback (most recent call last)",
      "\u001b[36mCell\u001b[39m\u001b[36m \u001b[39m\u001b[32mIn[31]\u001b[39m\u001b[32m, line 1\u001b[39m\n\u001b[32m----> \u001b[39m\u001b[32m1\u001b[39m \u001b[43mmodel\u001b[49m\u001b[43m.\u001b[49m\u001b[43mdevice\u001b[49m\n",
      "\u001b[36mFile \u001b[39m\u001b[32m~/Documents/git/CIM_UrbanScanner/venv/lib/python3.13/site-packages/torch/nn/modules/module.py:1964\u001b[39m, in \u001b[36mModule.__getattr__\u001b[39m\u001b[34m(self, name)\u001b[39m\n\u001b[32m   1962\u001b[39m     \u001b[38;5;28;01mif\u001b[39;00m name \u001b[38;5;129;01min\u001b[39;00m modules:\n\u001b[32m   1963\u001b[39m         \u001b[38;5;28;01mreturn\u001b[39;00m modules[name]\n\u001b[32m-> \u001b[39m\u001b[32m1964\u001b[39m \u001b[38;5;28;01mraise\u001b[39;00m \u001b[38;5;167;01mAttributeError\u001b[39;00m(\n\u001b[32m   1965\u001b[39m     \u001b[33mf\u001b[39m\u001b[33m\"\u001b[39m\u001b[33m'\u001b[39m\u001b[38;5;132;01m{\u001b[39;00m\u001b[38;5;28mtype\u001b[39m(\u001b[38;5;28mself\u001b[39m).\u001b[34m__name__\u001b[39m\u001b[38;5;132;01m}\u001b[39;00m\u001b[33m'\u001b[39m\u001b[33m object has no attribute \u001b[39m\u001b[33m'\u001b[39m\u001b[38;5;132;01m{\u001b[39;00mname\u001b[38;5;132;01m}\u001b[39;00m\u001b[33m'\u001b[39m\u001b[33m\"\u001b[39m\n\u001b[32m   1966\u001b[39m )\n",
      "\u001b[31mAttributeError\u001b[39m: 'PINN' object has no attribute 'device'"
     ]
    }
   ],
   "source": []
  },
  {
   "cell_type": "code",
   "execution_count": 3,
   "id": "f66858eb",
   "metadata": {},
   "outputs": [
    {
     "data": {
      "text/plain": [
       "dict_keys(['FishCenterJoin.shp', 'fishnet.shp', 'fishnetlable.shp'])"
      ]
     },
     "execution_count": 3,
     "metadata": {},
     "output_type": "execute_result"
    }
   ],
   "source": [
    "fishnets = read_fishnet(verbose=True)\n",
    "fishnets.keys()"
   ]
  },
  {
   "cell_type": "code",
   "execution_count": 8,
   "id": "728c2503",
   "metadata": {},
   "outputs": [],
   "source": [
    "base_gdf = fishnets.get(\"fishnet.shp\")"
   ]
  },
  {
   "cell_type": "code",
   "execution_count": 22,
   "id": "8393a6ae",
   "metadata": {},
   "outputs": [
    {
     "name": "stdout",
     "output_type": "stream",
     "text": [
      "                  x             y\n",
      "0     294025.428773  4.844461e+06\n",
      "1     293944.744788  4.844849e+06\n",
      "2     293866.210663  4.845275e+06\n",
      "3     298813.571458  4.831822e+06\n",
      "4     298818.683000  4.832314e+06\n",
      "...             ...           ...\n",
      "2743  298318.683000  4.844814e+06\n",
      "2744  298318.683000  4.845314e+06\n",
      "2745  298318.683000  4.845814e+06\n",
      "2746  298318.683000  4.846314e+06\n",
      "2747  298346.278606  4.846684e+06\n",
      "\n",
      "[2748 rows x 2 columns]\n"
     ]
    },
    {
     "data": {
      "image/png": "[encoded data removed]",
      "text/plain": [
       "<Figure size 640x480 with 1 Axes>"
      ]
     },
     "metadata": {},
     "output_type": "display_data"
    }
   ],
   "source": [
    "import geopandas as gpd\n",
    "import numpy as np\n",
    "\n",
    "def aggregate_fishnet(gdf, agg_size=500):\n",
    "    \"\"\"\n",
    "    Aggregate a regular square fishnet GeoDataFrame (e.g. 100x100 m)\n",
    "    into larger grid cells (e.g. 500x500 m).\n",
    "\n",
    "    Parameters\n",
    "    ----------\n",
    "    gdf : GeoDataFrame\n",
    "        Input fishnet with square polygons in a projected CRS (meters).\n",
    "    agg_size : int, optional\n",
    "        Target grid size in meters (default = 500).\n",
    "\n",
    "    Returns\n",
    "    -------\n",
    "    GeoDataFrame\n",
    "        Aggregated fishnet with merged geometries (no attributes).\n",
    "    \"\"\"\n",
    "    if not gdf.crs or not gdf.crs.is_projected:\n",
    "        raise ValueError(\"Input GeoDataFrame must use a projected CRS in meters.\")\n",
    "\n",
    "    # Get reference origin (lower-left corner)\n",
    "    minx, miny, _, _ = gdf.total_bounds\n",
    "\n",
    "    # Compute centroid coordinates\n",
    "    centroids = gdf.geometry.centroid\n",
    "    cx, cy = centroids.x, centroids.y\n",
    "\n",
    "    # Determine which 500m cell each feature belongs to\n",
    "    gx = np.floor((cx - minx) / agg_size)\n",
    "    gy = np.floor((cy - miny) / agg_size)\n",
    "    group_id = gx.astype(int).astype(str) + \"_\" + gy.astype(int).astype(str)\n",
    "\n",
    "    # Dissolve geometries by group ID (drop attributes)\n",
    "    agg = gdf[[\"geometry\"]].dissolve(by=group_id)\n",
    "\n",
    "    # Clean index and reset CRS\n",
    "    agg = agg.reset_index(drop=True)\n",
    "    agg.crs = gdf.crs\n",
    "\n",
    "    return agg\n",
    "\n",
    "base = aggregate_fishnet(base_gdf, 500)\n",
    "base.boundary.plot()\n",
    "\n",
    "base[\"x\"] = base.geometry.centroid.x\n",
    "base[\"y\"] = base.geometry.centroid.y\n",
    "\n",
    "base = base[[\"x\", \"y\"]]\n",
    "print(base)"
   ]
  },
  {
   "cell_type": "code",
   "execution_count": 24,
   "id": "23b525cf",
   "metadata": {},
   "outputs": [],
   "source": [
    "x = base.x\n",
    "y = base.y\n",
    "\n",
    "# Hour values: 8 → 15 (0.5 increments)\n",
    "hours = np.arange(8, 15.5, 0.5)  # includes 15.0\n",
    "\n",
    "# Repeat each (x, y) pair for each hour\n",
    "xy_repeated = np.repeat(np.column_stack((x, y)), len(hours), axis=0)\n",
    "\n",
    "# Tile hour values across all points\n",
    "hour_tiled = np.tile(hours, len(x))\n",
    "\n",
    "# Combine into single array: [x, y, hour]\n",
    "test_array = np.column_stack((xy_repeated, hour_tiled))"
   ]
  },
  {
   "cell_type": "code",
   "execution_count": 29,
   "id": "4379ccb0",
   "metadata": {},
   "outputs": [
    {
     "name": "stdout",
     "output_type": "stream",
     "text": [
      "=== Pollution Data Summary ===\n",
      "Total rows: 2,274\n",
      "Columns: ['r3_key', 'x_meter', 'y_meter', 'hour', 'NO2', 'wind_x', 'wind_y', 'S']\n",
      "\n",
      "Feature ranges (original scale):\n",
      "  x_meter    min=294020.507  max=335469.631  mean=313042.063\n",
      "  y_meter    min=4827313.776  max=4857008.441  mean=4842426.973\n",
      "  hour       min=     8.000  max=    15.000  mean=    11.617\n",
      "  NO2        min=     0.001  max=     0.075  mean=     0.024\n",
      "  wind_x     min=   -33.033  max=    27.427  mean=    -2.554\n",
      "  wind_y     min=   -32.519  max=    33.799  mean=    -5.281\n",
      "  S          min=     0.000  max=     0.000  mean=     0.000\n",
      "\n",
      "Preprocessed:\n",
      "  Train samples: 1,137\n",
      "  Test samples:  1,137\n",
      "  Collocation pts: 20,000\n",
      "  Scaling: on\n",
      "  Device: mps\n",
      "\n",
      "--- Verbose Info ---\n",
      "Tensor shapes:\n",
      "  xyt   : (1137, 3)\n",
      "  D     : (1137, 1)\n",
      "  u     : (1137, 1)\n",
      "  v     : (1137, 1)\n",
      "  S     : (1137, 1)\n",
      "\n",
      "Scaled input ranges:\n",
      "  x-scaled  min=  0.0164  max=  0.9861\n",
      "  y-scaled  min=  0.0292  max=  0.9872\n",
      "  t-scaled  min=  0.1429  max=  1.0000\n",
      "\n",
      "Original output feature min/max:\n",
      "  D  : min=  0.0012, max=  0.0752\n",
      "  u  : min=-33.0333, max= 27.4268\n",
      "  v  : min=-32.5190, max= 33.7987\n",
      "\n",
      "Scaled S range:\n",
      "  S-scaled  min=  0.0000  max=  0.0000\n",
      "\n",
      "Sample collocation points (scaled):\n",
      "[[0.7032609  0.84014404 0.40082887]\n",
      " [0.05679252 0.45928025 1.0773696 ]\n",
      " [0.7270281  0.63001233 0.5541267 ]\n",
      " [0.4893559  0.3640643  0.42107642]\n",
      " [0.23504665 0.6037458  0.5475415 ]]\n",
      "==============================\n",
      "\n"
     ]
    },
    {
     "ename": "RuntimeError",
     "evalue": "Tensor for argument weight is on cpu but expected on mps",
     "output_type": "error",
     "traceback": [
      "\u001b[31m---------------------------------------------------------------------------\u001b[39m",
      "\u001b[31mRuntimeError\u001b[39m                              Traceback (most recent call last)",
      "\u001b[36mCell\u001b[39m\u001b[36m \u001b[39m\u001b[32mIn[29]\u001b[39m\u001b[32m, line 10\u001b[39m\n\u001b[32m      7\u001b[39m xyt = torch.tensor(xyt_scaled, dtype=torch.float32, device=loader.device)\n\u001b[32m      9\u001b[39m \u001b[38;5;28;01mwith\u001b[39;00m torch.no_grad():\n\u001b[32m---> \u001b[39m\u001b[32m10\u001b[39m     D_pred, u_pred, v_pred = \u001b[43mmodel\u001b[49m\u001b[43m.\u001b[49m\u001b[43mpredict_fields\u001b[49m\u001b[43m(\u001b[49m\u001b[43mxyt\u001b[49m\u001b[43m)\u001b[49m\n",
      "\u001b[36mFile \u001b[39m\u001b[32m~/Documents/git/CIM_UrbanScanner/model.py:52\u001b[39m, in \u001b[36mPINN.predict_fields\u001b[39m\u001b[34m(self, xyt)\u001b[39m\n\u001b[32m     51\u001b[39m \u001b[38;5;28;01mdef\u001b[39;00m\u001b[38;5;250m \u001b[39m\u001b[34mpredict_fields\u001b[39m(\u001b[38;5;28mself\u001b[39m, xyt):\n\u001b[32m---> \u001b[39m\u001b[32m52\u001b[39m     out = \u001b[38;5;28;43mself\u001b[39;49m\u001b[43m.\u001b[49m\u001b[43mforward\u001b[49m\u001b[43m(\u001b[49m\u001b[43mxyt\u001b[49m\u001b[43m)\u001b[49m\n\u001b[32m     53\u001b[39m     D = out[:, \u001b[32m0\u001b[39m:\u001b[32m1\u001b[39m]\n\u001b[32m     54\u001b[39m     u = out[:, \u001b[32m1\u001b[39m:\u001b[32m2\u001b[39m]\n",
      "\u001b[36mFile \u001b[39m\u001b[32m~/Documents/git/CIM_UrbanScanner/model.py:49\u001b[39m, in \u001b[36mPINN.forward\u001b[39m\u001b[34m(self, x)\u001b[39m\n\u001b[32m     47\u001b[39m \u001b[38;5;28;01mdef\u001b[39;00m\u001b[38;5;250m \u001b[39m\u001b[34mforward\u001b[39m(\u001b[38;5;28mself\u001b[39m, x):\n\u001b[32m     48\u001b[39m     \u001b[38;5;66;03m# x: (N, 3) -> returns (N, 3)\u001b[39;00m\n\u001b[32m---> \u001b[39m\u001b[32m49\u001b[39m     \u001b[38;5;28;01mreturn\u001b[39;00m \u001b[38;5;28;43mself\u001b[39;49m\u001b[43m.\u001b[49m\u001b[43mnet\u001b[49m\u001b[43m(\u001b[49m\u001b[43mx\u001b[49m\u001b[43m)\u001b[49m\n",
      "\u001b[36mFile \u001b[39m\u001b[32m~/Documents/git/CIM_UrbanScanner/venv/lib/python3.13/site-packages/torch/nn/modules/module.py:1775\u001b[39m, in \u001b[36mModule._wrapped_call_impl\u001b[39m\u001b[34m(self, *args, **kwargs)\u001b[39m\n\u001b[32m   1773\u001b[39m     \u001b[38;5;28;01mreturn\u001b[39;00m \u001b[38;5;28mself\u001b[39m._compiled_call_impl(*args, **kwargs)  \u001b[38;5;66;03m# type: ignore[misc]\u001b[39;00m\n\u001b[32m   1774\u001b[39m \u001b[38;5;28;01melse\u001b[39;00m:\n\u001b[32m-> \u001b[39m\u001b[32m1775\u001b[39m     \u001b[38;5;28;01mreturn\u001b[39;00m \u001b[38;5;28;43mself\u001b[39;49m\u001b[43m.\u001b[49m\u001b[43m_call_impl\u001b[49m\u001b[43m(\u001b[49m\u001b[43m*\u001b[49m\u001b[43margs\u001b[49m\u001b[43m,\u001b[49m\u001b[43m \u001b[49m\u001b[43m*\u001b[49m\u001b[43m*\u001b[49m\u001b[43mkwargs\u001b[49m\u001b[43m)\u001b[49m\n",
      "\u001b[36mFile \u001b[39m\u001b[32m~/Documents/git/CIM_UrbanScanner/venv/lib/python3.13/site-packages/torch/nn/modules/module.py:1786\u001b[39m, in \u001b[36mModule._call_impl\u001b[39m\u001b[34m(self, *args, **kwargs)\u001b[39m\n\u001b[32m   1781\u001b[39m \u001b[38;5;66;03m# If we don't have any hooks, we want to skip the rest of the logic in\u001b[39;00m\n\u001b[32m   1782\u001b[39m \u001b[38;5;66;03m# this function, and just call forward.\u001b[39;00m\n\u001b[32m   1783\u001b[39m \u001b[38;5;28;01mif\u001b[39;00m \u001b[38;5;129;01mnot\u001b[39;00m (\u001b[38;5;28mself\u001b[39m._backward_hooks \u001b[38;5;129;01mor\u001b[39;00m \u001b[38;5;28mself\u001b[39m._backward_pre_hooks \u001b[38;5;129;01mor\u001b[39;00m \u001b[38;5;28mself\u001b[39m._forward_hooks \u001b[38;5;129;01mor\u001b[39;00m \u001b[38;5;28mself\u001b[39m._forward_pre_hooks\n\u001b[32m   1784\u001b[39m         \u001b[38;5;129;01mor\u001b[39;00m _global_backward_pre_hooks \u001b[38;5;129;01mor\u001b[39;00m _global_backward_hooks\n\u001b[32m   1785\u001b[39m         \u001b[38;5;129;01mor\u001b[39;00m _global_forward_hooks \u001b[38;5;129;01mor\u001b[39;00m _global_forward_pre_hooks):\n\u001b[32m-> \u001b[39m\u001b[32m1786\u001b[39m     \u001b[38;5;28;01mreturn\u001b[39;00m \u001b[43mforward_call\u001b[49m\u001b[43m(\u001b[49m\u001b[43m*\u001b[49m\u001b[43margs\u001b[49m\u001b[43m,\u001b[49m\u001b[43m \u001b[49m\u001b[43m*\u001b[49m\u001b[43m*\u001b[49m\u001b[43mkwargs\u001b[49m\u001b[43m)\u001b[49m\n\u001b[32m   1788\u001b[39m result = \u001b[38;5;28;01mNone\u001b[39;00m\n\u001b[32m   1789\u001b[39m called_always_called_hooks = \u001b[38;5;28mset\u001b[39m()\n",
      "\u001b[36mFile \u001b[39m\u001b[32m~/Documents/git/CIM_UrbanScanner/venv/lib/python3.13/site-packages/torch/nn/modules/container.py:250\u001b[39m, in \u001b[36mSequential.forward\u001b[39m\u001b[34m(self, input)\u001b[39m\n\u001b[32m    246\u001b[39m \u001b[38;5;250m\u001b[39m\u001b[33;03m\"\"\"\u001b[39;00m\n\u001b[32m    247\u001b[39m \u001b[33;03mRuns the forward pass.\u001b[39;00m\n\u001b[32m    248\u001b[39m \u001b[33;03m\"\"\"\u001b[39;00m\n\u001b[32m    249\u001b[39m \u001b[38;5;28;01mfor\u001b[39;00m module \u001b[38;5;129;01min\u001b[39;00m \u001b[38;5;28mself\u001b[39m:\n\u001b[32m--> \u001b[39m\u001b[32m250\u001b[39m     \u001b[38;5;28minput\u001b[39m = \u001b[43mmodule\u001b[49m\u001b[43m(\u001b[49m\u001b[38;5;28;43minput\u001b[39;49m\u001b[43m)\u001b[49m\n\u001b[32m    251\u001b[39m \u001b[38;5;28;01mreturn\u001b[39;00m \u001b[38;5;28minput\u001b[39m\n",
      "\u001b[36mFile \u001b[39m\u001b[32m~/Documents/git/CIM_UrbanScanner/venv/lib/python3.13/site-packages/torch/nn/modules/module.py:1775\u001b[39m, in \u001b[36mModule._wrapped_call_impl\u001b[39m\u001b[34m(self, *args, **kwargs)\u001b[39m\n\u001b[32m   1773\u001b[39m     \u001b[38;5;28;01mreturn\u001b[39;00m \u001b[38;5;28mself\u001b[39m._compiled_call_impl(*args, **kwargs)  \u001b[38;5;66;03m# type: ignore[misc]\u001b[39;00m\n\u001b[32m   1774\u001b[39m \u001b[38;5;28;01melse\u001b[39;00m:\n\u001b[32m-> \u001b[39m\u001b[32m1775\u001b[39m     \u001b[38;5;28;01mreturn\u001b[39;00m \u001b[38;5;28;43mself\u001b[39;49m\u001b[43m.\u001b[49m\u001b[43m_call_impl\u001b[49m\u001b[43m(\u001b[49m\u001b[43m*\u001b[49m\u001b[43margs\u001b[49m\u001b[43m,\u001b[49m\u001b[43m \u001b[49m\u001b[43m*\u001b[49m\u001b[43m*\u001b[49m\u001b[43mkwargs\u001b[49m\u001b[43m)\u001b[49m\n",
      "\u001b[36mFile \u001b[39m\u001b[32m~/Documents/git/CIM_UrbanScanner/venv/lib/python3.13/site-packages/torch/nn/modules/module.py:1786\u001b[39m, in \u001b[36mModule._call_impl\u001b[39m\u001b[34m(self, *args, **kwargs)\u001b[39m\n\u001b[32m   1781\u001b[39m \u001b[38;5;66;03m# If we don't have any hooks, we want to skip the rest of the logic in\u001b[39;00m\n\u001b[32m   1782\u001b[39m \u001b[38;5;66;03m# this function, and just call forward.\u001b[39;00m\n\u001b[32m   1783\u001b[39m \u001b[38;5;28;01mif\u001b[39;00m \u001b[38;5;129;01mnot\u001b[39;00m (\u001b[38;5;28mself\u001b[39m._backward_hooks \u001b[38;5;129;01mor\u001b[39;00m \u001b[38;5;28mself\u001b[39m._backward_pre_hooks \u001b[38;5;129;01mor\u001b[39;00m \u001b[38;5;28mself\u001b[39m._forward_hooks \u001b[38;5;129;01mor\u001b[39;00m \u001b[38;5;28mself\u001b[39m._forward_pre_hooks\n\u001b[32m   1784\u001b[39m         \u001b[38;5;129;01mor\u001b[39;00m _global_backward_pre_hooks \u001b[38;5;129;01mor\u001b[39;00m _global_backward_hooks\n\u001b[32m   1785\u001b[39m         \u001b[38;5;129;01mor\u001b[39;00m _global_forward_hooks \u001b[38;5;129;01mor\u001b[39;00m _global_forward_pre_hooks):\n\u001b[32m-> \u001b[39m\u001b[32m1786\u001b[39m     \u001b[38;5;28;01mreturn\u001b[39;00m \u001b[43mforward_call\u001b[49m\u001b[43m(\u001b[49m\u001b[43m*\u001b[49m\u001b[43margs\u001b[49m\u001b[43m,\u001b[49m\u001b[43m \u001b[49m\u001b[43m*\u001b[49m\u001b[43m*\u001b[49m\u001b[43mkwargs\u001b[49m\u001b[43m)\u001b[49m\n\u001b[32m   1788\u001b[39m result = \u001b[38;5;28;01mNone\u001b[39;00m\n\u001b[32m   1789\u001b[39m called_always_called_hooks = \u001b[38;5;28mset\u001b[39m()\n",
      "\u001b[36mFile \u001b[39m\u001b[32m~/Documents/git/CIM_UrbanScanner/venv/lib/python3.13/site-packages/torch/nn/modules/linear.py:134\u001b[39m, in \u001b[36mLinear.forward\u001b[39m\u001b[34m(self, input)\u001b[39m\n\u001b[32m    130\u001b[39m \u001b[38;5;28;01mdef\u001b[39;00m\u001b[38;5;250m \u001b[39m\u001b[34mforward\u001b[39m(\u001b[38;5;28mself\u001b[39m, \u001b[38;5;28minput\u001b[39m: Tensor) -> Tensor:\n\u001b[32m    131\u001b[39m \u001b[38;5;250m    \u001b[39m\u001b[33;03m\"\"\"\u001b[39;00m\n\u001b[32m    132\u001b[39m \u001b[33;03m    Runs the forward pass.\u001b[39;00m\n\u001b[32m    133\u001b[39m \u001b[33;03m    \"\"\"\u001b[39;00m\n\u001b[32m--> \u001b[39m\u001b[32m134\u001b[39m     \u001b[38;5;28;01mreturn\u001b[39;00m \u001b[43mF\u001b[49m\u001b[43m.\u001b[49m\u001b[43mlinear\u001b[49m\u001b[43m(\u001b[49m\u001b[38;5;28;43minput\u001b[39;49m\u001b[43m,\u001b[49m\u001b[43m \u001b[49m\u001b[38;5;28;43mself\u001b[39;49m\u001b[43m.\u001b[49m\u001b[43mweight\u001b[49m\u001b[43m,\u001b[49m\u001b[43m \u001b[49m\u001b[38;5;28;43mself\u001b[39;49m\u001b[43m.\u001b[49m\u001b[43mbias\u001b[49m\u001b[43m)\u001b[49m\n",
      "\u001b[31mRuntimeError\u001b[39m: Tensor for argument weight is on cpu but expected on mps"
     ]
    }
   ],
   "source": [
    "loader = load_loader(n_colloc=20000).prepare_data().preprocess()\n",
    "\n",
    "# === Scale and convert ===\n",
    "xyt_scaled = loader.scaler_xyt.transform(test_array)\n",
    "\n",
    "# Convert to torch tensor for model input\n",
    "xyt = torch.tensor(xyt_scaled, dtype=torch.float32, device=loader.device)\n",
    "\n",
    "with torch.no_grad():\n",
    "    D_pred, u_pred, v_pred = model.predict_fields(xyt)"
   ]
  },
  {
   "cell_type": "code",
   "execution_count": 30,
   "id": "27f7b854",
   "metadata": {},
   "outputs": [
    {
     "data": {
      "text/plain": [
       "'mps'"
      ]
     },
     "execution_count": 30,
     "metadata": {},
     "output_type": "execute_result"
    }
   ],
   "source": [
    "loader.device"
   ]
  }
 ],
 "metadata": {
  "kernelspec": {
   "display_name": "venv",
   "language": "python",
   "name": "python3"
  },
  "language_info": {
   "codemirror_mode": {
    "name": "ipython",
    "version": 3
   },
   "file_extension": ".py",
   "mimetype": "text/x-python",
   "name": "python",
   "nbconvert_exporter": "python",
   "pygments_lexer": "ipython3",
   "version": "3.13.5"
  }
 },
 "nbformat": 4,
 "nbformat_minor": 5
}
