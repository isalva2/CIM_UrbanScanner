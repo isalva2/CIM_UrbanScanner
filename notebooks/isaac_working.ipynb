{
 "cells": [
  {
   "cell_type": "markdown",
   "id": "e2eeb15c",
   "metadata": {},
   "source": [
    "# Cities in Motion: Student Hackathon\n",
    "\n",
    "This notebook covers initial data exploration of the Urban Scanner dataset."
   ]
  },
  {
   "cell_type": "code",
   "execution_count": 1,
   "id": "d1952867",
   "metadata": {},
   "outputs": [
    {
     "name": "stdout",
     "output_type": "stream",
     "text": [
      "3\n"
     ]
    }
   ],
   "source": [
    "import os\n",
    "os.chdir(\"..\")\n",
    "\n",
    "from data import read_fishnet\n",
    "\n",
    "gdfs = read_fishnet(verbose=True)"
   ]
  },
  {
   "cell_type": "code",
   "execution_count": 2,
   "id": "98efba69",
   "metadata": {},
   "outputs": [
    {
     "data": {
      "text/plain": [
       "dict_keys(['FishCenterJoin.shp', 'fishnet.shp', 'fishnetlable.shp'])"
      ]
     },
     "execution_count": 2,
     "metadata": {},
     "output_type": "execute_result"
    }
   ],
   "source": [
    "gdfs.keys()"
   ]
  },
  {
   "cell_type": "code",
   "execution_count": 4,
   "id": "28d1656b",
   "metadata": {},
   "outputs": [
    {
     "name": "stdout",
     "output_type": "stream",
     "text": [
      "65257\n",
      "65257\n",
      "64160\n"
     ]
    }
   ],
   "source": [
    "for gdf in gdfs.values():\n",
    "    print(len(gdf))"
   ]
  }
 ],
 "metadata": {
  "kernelspec": {
   "display_name": "venv",
   "language": "python",
   "name": "python3"
  },
  "language_info": {
   "codemirror_mode": {
    "name": "ipython",
    "version": 3
   },
   "file_extension": ".py",
   "mimetype": "text/x-python",
   "name": "python",
   "nbconvert_exporter": "python",
   "pygments_lexer": "ipython3",
   "version": "3.13.5"
  }
 },
 "nbformat": 4,
 "nbformat_minor": 5
}
