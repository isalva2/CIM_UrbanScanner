{
 "cells": [
  {
   "cell_type": "markdown",
   "id": "e2eeb15c",
   "metadata": {},
   "source": [
    "# Cities in Motion: Student Hackathon\n",
    "\n",
    "This notebook covers initial data exploration of the Urban Scanner dataset."
   ]
  },
  {
   "cell_type": "code",
   "execution_count": 1,
   "id": "d1952867",
   "metadata": {},
   "outputs": [],
   "source": [
    "import os\n",
    "os.chdir(\"..\")\n",
    "\n",
    "from data import read_gis_predictors\n",
    "\n",
    "fishnet_predictors, GIS_road_with_samples = read_gis_predictors()"
   ]
  }
 ],
 "metadata": {
  "kernelspec": {
   "display_name": "venv",
   "language": "python",
   "name": "python3"
  },
  "language_info": {
   "codemirror_mode": {
    "name": "ipython",
    "version": 3
   },
   "file_extension": ".py",
   "mimetype": "text/x-python",
   "name": "python",
   "nbconvert_exporter": "python",
   "pygments_lexer": "ipython3",
   "version": "3.13.5"
  }
 },
 "nbformat": 4,
 "nbformat_minor": 5
}
