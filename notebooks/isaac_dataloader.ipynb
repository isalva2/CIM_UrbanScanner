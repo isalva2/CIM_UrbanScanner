{
 "cells": [
  {
   "cell_type": "markdown",
   "id": "e2eeb15c",
   "metadata": {},
   "source": [
    "# Cities in Motion: Student Hackathon\n",
    "\n",
    "This notebook covers initial data exploration of the Urban Scanner dataset."
   ]
  },
  {
   "cell_type": "code",
   "execution_count": 1,
   "id": "d1952867",
   "metadata": {},
   "outputs": [],
   "source": [
    "import os\n",
    "os.chdir(\"..\")\n",
    "\n",
    "from pandas import DataFrame\n",
    "from geopandas import GeoDataFrame\n",
    "import pandas as pd\n",
    "import numpy as np\n",
    "\n",
    "from data import *\n",
    "from preprocess import *\n",
    "\n",
    "fishnet_predictors, gis_samples = read_gis_predictors()\n",
    "fishnets = read_fishnet(verbose=True)\n",
    "fishnet_gdf = fishnets.get(\"FishCenterJoin.shp\")\n",
    "wind_speeds = read_r3()\n",
    "wind_speeds_decomposed = windspeed_decomp_prerocess(wind_speeds)\n",
    "training_dataset_metric = prepare_training_dataset_metric(wind_speeds_decomposed, fishnet_gdf)"
   ]
  },
  {
   "cell_type": "code",
   "execution_count": 2,
   "id": "995e58d4",
   "metadata": {},
   "outputs": [
    {
     "name": "stdout",
     "output_type": "stream",
     "text": [
      "=== Pollution Data Summary ===\n",
      "Total rows: 2,274\n",
      "Columns: ['r3_key', 'x_meter', 'y_meter', 'hour', 'NO2', 'wind_x', 'wind_y', 'S']\n",
      "\n",
      "Feature ranges (original scale):\n",
      "  x_meter    min=294020.507  max=335469.631  mean=313042.063\n",
      "  y_meter    min=4827313.776  max=4857008.441  mean=4842426.973\n",
      "  hour       min=     8.000  max=    15.000  mean=    11.617\n",
      "  NO2        min=     0.001  max=     0.075  mean=     0.024\n",
      "  wind_x     min=   -33.033  max=    27.427  mean=    -2.554\n",
      "  wind_y     min=   -32.519  max=    33.799  mean=    -5.281\n",
      "\n",
      "Preprocessed:\n",
      "  Train samples: 1,137\n",
      "  Test samples:  1,137\n",
      "  Collocation pts: 1,000\n",
      "  Scaling: on\n",
      "  Device: cpu\n",
      "\n",
      "--- Verbose Info ---\n",
      "Tensor shapes:\n",
      "  xyt   : (1137, 3)\n",
      "  D     : (1137, 1)\n",
      "  u     : (1137, 1)\n",
      "  v     : (1137, 1)\n",
      "  S     : (1137, 1)\n",
      "\n",
      "Scaled input ranges:\n",
      "  x-scaled  min=  0.0164  max=  0.9861\n",
      "  y-scaled  min=  0.0292  max=  0.9872\n",
      "  t-scaled  min=  0.1429  max=  1.0000\n",
      "\n",
      "Original output feature min/max:\n",
      "  D  : min=  0.0012, max=  0.0752\n",
      "  u  : min=-33.0333, max= 27.4268\n",
      "  v  : min=-32.5190, max= 33.7987\n",
      "\n",
      "Sample collocation points (scaled):\n",
      "[[0.7032609  0.84014404 0.85714287]\n",
      " [0.05679252 0.45928025 1.        ]\n",
      " [0.7270281  0.63001233 0.71428573]\n",
      " [0.4893559  0.3640643  0.42857143]\n",
      " [0.23504665 0.6037458  0.        ]]\n",
      "==============================\n",
      "\n"
     ]
    }
   ],
   "source": [
    "dataLoader = PollutionDataLoader(training_dataset_metric, fishnet_gdf, 1000)\n",
    "\n",
    "dataLoader.prepare_data().preprocess()\n",
    "\n",
    "dataLoader.summary(verbose=True)"
   ]
  }
 ],
 "metadata": {
  "kernelspec": {
   "display_name": "venv",
   "language": "python",
   "name": "python3"
  },
  "language_info": {
   "codemirror_mode": {
    "name": "ipython",
    "version": 3
   },
   "file_extension": ".py",
   "mimetype": "text/x-python",
   "name": "python",
   "nbconvert_exporter": "python",
   "pygments_lexer": "ipython3",
   "version": "3.13.5"
  }
 },
 "nbformat": 4,
 "nbformat_minor": 5
}
