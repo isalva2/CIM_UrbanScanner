{
 "cells": [
  {
   "cell_type": "markdown",
   "id": "e2eeb15c",
   "metadata": {},
   "source": [
    "# Cities in Motion: Student Hackathon\n",
    "\n",
    "This is a template to get you started with working in this repo."
   ]
  },
  {
   "cell_type": "code",
   "execution_count": null,
   "id": "d1952867",
   "metadata": {},
   "outputs": [],
   "source": [
    "# this script moves the working directory of the code to the top level, allowing you to call functions from the top level python files.\n",
    "import os\n",
    "os.chdir(\"..\")\n",
    "\n",
    "# for example\n",
    "from data import read_gis_predictors\n",
    "\n",
    "fishnet_predictors, GIS_road_with_samples = read_gis_predictors()"
   ]
  }
 ],
 "metadata": {
  "kernelspec": {
   "display_name": "venv",
   "language": "python",
   "name": "python3"
  },
  "language_info": {
   "codemirror_mode": {
    "name": "ipython",
    "version": 3
   },
   "file_extension": ".py",
   "mimetype": "text/x-python",
   "name": "python",
   "nbconvert_exporter": "python",
   "pygments_lexer": "ipython3",
   "version": "3.13.5"
  }
 },
 "nbformat": 4,
 "nbformat_minor": 5
}
